{
 "cells": [
  {
   "cell_type": "code",
   "execution_count": 1,
   "metadata": {},
   "outputs": [
    {
     "name": "stdout",
     "output_type": "stream",
     "text": [
      "\u001b[1m\n",
      "============================== Info about spaCy ==============================\u001b[0m\n",
      "\n",
      "spaCy version    3.6.1                         \n",
      "Location         c:\\Users\\VishalMSingh\\AppData\\Local\\Programs\\Python\\Python310\\lib\\site-packages\\spacy\n",
      "Platform         Windows-10-10.0.19045-SP0     \n",
      "Python version   3.10.11                       \n",
      "Pipelines        en_core_web_sm (3.6.0)        \n",
      "\n"
     ]
    }
   ],
   "source": [
    "!python -m spacy info"
   ]
  },
  {
   "cell_type": "code",
   "execution_count": 17,
   "metadata": {},
   "outputs": [],
   "source": [
    "import spacy\n",
    "from spacy.tokens import DocBin\n",
    "from tqdm import tqdm\n",
    "\n",
    "nlp = spacy.blank(\"en\") # load a new spacy model\n",
    "db = DocBin() # create a DocBin object"
   ]
  },
  {
   "cell_type": "code",
   "execution_count": 18,
   "metadata": {},
   "outputs": [],
   "source": [
    "import json\n",
    "f = open('train.json')\n",
    "TRAIN_DATA = json.load(f)"
   ]
  },
  {
   "cell_type": "code",
   "execution_count": 19,
   "metadata": {},
   "outputs": [
    {
     "name": "stderr",
     "output_type": "stream",
     "text": [
      "100%|██████████| 1/1 [00:00<00:00, 29.20it/s]\n"
     ]
    }
   ],
   "source": [
    "for text, annot in tqdm(TRAIN_DATA['annotations']): \n",
    "    doc = nlp.make_doc(text) \n",
    "    ents = []\n",
    "    for start, end, label in annot[\"entities\"]:\n",
    "        span = doc.char_span(start, end, label=label, alignment_mode=\"contract\")\n",
    "        if span is None:\n",
    "            print(\"Skipping entity\")\n",
    "        else:\n",
    "            ents.append(span)\n",
    "    doc.ents = ents \n",
    "    db.add(doc)\n",
    "\n",
    "db.to_disk(\"./train.spacy\") # save the docbin object"
   ]
  },
  {
   "cell_type": "code",
   "execution_count": 22,
   "metadata": {},
   "outputs": [
    {
     "name": "stdout",
     "output_type": "stream",
     "text": [
      "\n",
      "\u001b[38;5;1m✘ The provided output file already exists. To force overwriting the\n",
      "config file, set the --force or -F flag.\u001b[0m\n",
      "\n"
     ]
    }
   ],
   "source": [
    "! python -m spacy init config config.cfg --lang en --pipeline ner --optimize accuracy\n"
   ]
  },
  {
   "cell_type": "code",
   "execution_count": 23,
   "metadata": {},
   "outputs": [
    {
     "name": "stdout",
     "output_type": "stream",
     "text": [
      "\u001b[38;5;2m✔ Created output directory: output\u001b[0m\n",
      "\u001b[38;5;4mℹ Saving to output directory: output\u001b[0m\n",
      "\u001b[38;5;4mℹ Using CPU\u001b[0m\n",
      "\u001b[1m\n",
      "=========================== Initializing pipeline ===========================\u001b[0m\n",
      "\u001b[38;5;2m✔ Initialized pipeline\u001b[0m\n",
      "\u001b[1m\n",
      "============================= Training pipeline =============================\u001b[0m\n",
      "\u001b[38;5;4mℹ Pipeline: ['tok2vec', 'ner']\u001b[0m\n",
      "\u001b[38;5;4mℹ Initial learn rate: 0.001\u001b[0m\n",
      "E    #       LOSS TOK2VEC  LOSS NER  ENTS_F  ENTS_P  ENTS_R  SCORE \n",
      "---  ------  ------------  --------  ------  ------  ------  ------\n",
      "\u001b[38;5;3m⚠ Aborting and saving the final best model. Encountered exception:\n",
      "FileNotFoundError(2, 'No such file or directory')\u001b[0m\n"
     ]
    },
    {
     "name": "stderr",
     "output_type": "stream",
     "text": [
      "Traceback (most recent call last):\n",
      "  File \"c:\\Users\\VishalMSingh\\AppData\\Local\\Programs\\Python\\Python310\\lib\\runpy.py\", line 196, in _run_module_as_main\n",
      "    return _run_code(code, main_globals, None,\n",
      "  File \"c:\\Users\\VishalMSingh\\AppData\\Local\\Programs\\Python\\Python310\\lib\\runpy.py\", line 86, in _run_code\n",
      "    exec(code, run_globals)\n",
      "  File \"c:\\Users\\VishalMSingh\\AppData\\Local\\Programs\\Python\\Python310\\lib\\site-packages\\spacy\\__main__.py\", line 4, in <module>\n",
      "    setup_cli()\n",
      "  File \"c:\\Users\\VishalMSingh\\AppData\\Local\\Programs\\Python\\Python310\\lib\\site-packages\\spacy\\cli\\_util.py\", line 92, in setup_cli\n",
      "    command(prog_name=COMMAND)\n",
      "  File \"c:\\Users\\VishalMSingh\\AppData\\Local\\Programs\\Python\\Python310\\lib\\site-packages\\click\\core.py\", line 1130, in __call__\n",
      "    return self.main(*args, **kwargs)\n",
      "  File \"c:\\Users\\VishalMSingh\\AppData\\Local\\Programs\\Python\\Python310\\lib\\site-packages\\typer\\core.py\", line 778, in main\n",
      "    return _main(\n",
      "  File \"c:\\Users\\VishalMSingh\\AppData\\Local\\Programs\\Python\\Python310\\lib\\site-packages\\typer\\core.py\", line 216, in _main\n",
      "    rv = self.invoke(ctx)\n",
      "  File \"c:\\Users\\VishalMSingh\\AppData\\Local\\Programs\\Python\\Python310\\lib\\site-packages\\click\\core.py\", line 1657, in invoke\n",
      "    return _process_result(sub_ctx.command.invoke(sub_ctx))\n",
      "  File \"c:\\Users\\VishalMSingh\\AppData\\Local\\Programs\\Python\\Python310\\lib\\site-packages\\click\\core.py\", line 1404, in invoke\n",
      "    return ctx.invoke(self.callback, **ctx.params)\n",
      "  File \"c:\\Users\\VishalMSingh\\AppData\\Local\\Programs\\Python\\Python310\\lib\\site-packages\\click\\core.py\", line 760, in invoke\n",
      "    return __callback(*args, **kwargs)\n",
      "  File \"c:\\Users\\VishalMSingh\\AppData\\Local\\Programs\\Python\\Python310\\lib\\site-packages\\typer\\main.py\", line 683, in wrapper\n",
      "    return callback(**use_params)  # type: ignore\n",
      "  File \"c:\\Users\\VishalMSingh\\AppData\\Local\\Programs\\Python\\Python310\\lib\\site-packages\\spacy\\cli\\train.py\", line 54, in train_cli\n",
      "    train(config_path, output_path, use_gpu=use_gpu, overrides=overrides)\n",
      "  File \"c:\\Users\\VishalMSingh\\AppData\\Local\\Programs\\Python\\Python310\\lib\\site-packages\\spacy\\cli\\train.py\", line 84, in train\n",
      "    train_nlp(nlp, output_path, use_gpu=use_gpu, stdout=sys.stdout, stderr=sys.stderr)\n",
      "  File \"c:\\Users\\VishalMSingh\\AppData\\Local\\Programs\\Python\\Python310\\lib\\site-packages\\spacy\\training\\loop.py\", line 135, in train\n",
      "    raise e\n",
      "  File \"c:\\Users\\VishalMSingh\\AppData\\Local\\Programs\\Python\\Python310\\lib\\site-packages\\spacy\\training\\loop.py\", line 118, in train\n",
      "    for batch, info, is_best_checkpoint in training_step_iterator:\n",
      "  File \"c:\\Users\\VishalMSingh\\AppData\\Local\\Programs\\Python\\Python310\\lib\\site-packages\\spacy\\training\\loop.py\", line 243, in train_while_improving\n",
      "    score, other_scores = evaluate()\n",
      "  File \"c:\\Users\\VishalMSingh\\AppData\\Local\\Programs\\Python\\Python310\\lib\\site-packages\\spacy\\training\\loop.py\", line 298, in evaluate\n",
      "    scores = nlp.evaluate(dev_corpus(nlp))\n",
      "  File \"c:\\Users\\VishalMSingh\\AppData\\Local\\Programs\\Python\\Python310\\lib\\site-packages\\spacy\\language.py\", line 1428, in evaluate\n",
      "    examples = list(examples)\n",
      "  File \"c:\\Users\\VishalMSingh\\AppData\\Local\\Programs\\Python\\Python310\\lib\\site-packages\\spacy\\training\\corpus.py\", line 164, in __call__\n",
      "    for real_eg in examples:\n",
      "  File \"c:\\Users\\VishalMSingh\\AppData\\Local\\Programs\\Python\\Python310\\lib\\site-packages\\spacy\\training\\corpus.py\", line 186, in make_examples\n",
      "    for reference in reference_docs:\n",
      "  File \"c:\\Users\\VishalMSingh\\AppData\\Local\\Programs\\Python\\Python310\\lib\\site-packages\\spacy\\training\\corpus.py\", line 219, in read_docbin\n",
      "    doc_bin = DocBin().from_disk(loc)\n",
      "  File \"c:\\Users\\VishalMSingh\\AppData\\Local\\Programs\\Python\\Python310\\lib\\site-packages\\spacy\\tokens\\_serialize.py\", line 275, in from_disk\n",
      "    with path.open(\"rb\") as file_:\n",
      "  File \"c:\\Users\\VishalMSingh\\AppData\\Local\\Programs\\Python\\Python310\\lib\\pathlib.py\", line 1119, in open\n",
      "    return self._accessor.open(self, mode, buffering, encoding, errors,\n",
      "FileNotFoundError: [Errno 2] No such file or directory: 'dev.spacy'\n"
     ]
    }
   ],
   "source": [
    "#! python -m spacy init config config.cfg --lang en --pipeline ner --optimize accuracy\n",
    "! python -m spacy train config.cfg --output ./output --paths.train ./train.spacy --paths.dev ./dev.spacy"
   ]
  },
  {
   "cell_type": "code",
   "execution_count": 13,
   "metadata": {},
   "outputs": [
    {
     "name": "stdout",
     "output_type": "stream",
     "text": [
      "\u001b[38;5;4mℹ Saving to output directory: .\u001b[0m\n",
      "\u001b[38;5;4mℹ Using CPU\u001b[0m\n",
      "\u001b[1m\n",
      "=========================== Initializing pipeline ===========================\u001b[0m\n",
      "\u001b[38;5;2m✔ Initialized pipeline\u001b[0m\n",
      "\u001b[1m\n",
      "============================= Training pipeline =============================\u001b[0m\n",
      "\u001b[38;5;4mℹ Pipeline: ['tok2vec', 'ner']\u001b[0m\n",
      "\u001b[38;5;4mℹ Initial learn rate: 0.001\u001b[0m\n",
      "E    #       LOSS TOK2VEC  LOSS NER  ENTS_F  ENTS_P  ENTS_R  SCORE \n",
      "---  ------  ------------  --------  ------  ------  ------  ------\n",
      "  0       0          0.00    137.98    0.00    0.00    0.00    0.00\n",
      " 50     200       3199.07   5034.15   97.87   97.87   97.87    0.98\n",
      "108     400          3.30      6.93  100.00  100.00  100.00    1.00\n",
      "175     600          0.00      0.00  100.00  100.00  100.00    1.00\n",
      "242     800          0.00      0.00  100.00  100.00  100.00    1.00\n",
      "308    1000         18.80      9.08  100.00  100.00  100.00    1.00\n",
      "377    1200          0.00      0.00  100.00  100.00  100.00    1.00\n",
      "448    1400          0.00      0.00  100.00  100.00  100.00    1.00\n",
      "534    1600          0.00      0.00  100.00  100.00  100.00    1.00\n",
      "634    1800          0.00      0.00  100.00  100.00  100.00    1.00\n",
      "819    2000          0.00      0.00  100.00  100.00  100.00    1.00\n",
      "\u001b[38;5;2m✔ Saved pipeline to output directory\u001b[0m\n",
      "model-last\n"
     ]
    }
   ],
   "source": [
    "#! python -m spacy train config.cfg --output ./ --paths.train ./train21.spacy --paths.dev ./train21.spacy"
   ]
  },
  {
   "cell_type": "code",
   "execution_count": 14,
   "metadata": {},
   "outputs": [],
   "source": [
    "nlp_ner = spacy.load(\"model-best\") "
   ]
  },
  {
   "cell_type": "code",
   "execution_count": 15,
   "metadata": {},
   "outputs": [],
   "source": [
    "doc = nlp_ner('''\n",
    "Morgan Stanley Advantage Services Pvt. Ltd\n",
    ". Athena Bldg No.5, Sector 30 Mindspace, Goregaon (W) Mumbai PAYSLIP FOR THE MONTH OF NOVEMBER 2020 Emp Code 95RWK Emp Name Monsoor Choudhury Department TAX BLR Cost Center 4P07 PF No. MHBAN0046775000101 3953 Location Bengaluru Designation Sr Associate ESI No. Date of Birth 11-09-1991 Bank A/c No 50100300732580 Pan No. AQFPC0159B Date of Joining 22-07-2019 Gender M EPS No. UAN 100717017168 Regime Type Old Regime Earnings Amount YTD Deductions Amount YTD Basic 37,542.00 300,336.00 Provident Fund 4,505.00 33,787.00 Conveyance Allowance 1,600.00 12,800.00 Profession Tax 200.00 1,600.00 Other Earnings 2,000.00 12,000.00 Medical Insurance 1,399.00 11,192.00 House Rent Allowance 35,942.00 287,536.00 Income Tax 3,141.00 34,273.00 Total Earnings 77,084.00 612,672.00 Total Deductions 9,245.00 80,852.00 Net Pay : Rs. 67,839.00 In Words Rupees Sixty Seven Thousand Eight Hundred and Thirty Nine Only. Private and Confidential.This is a system-generated document and signature is not required'\n",
    "''') "
   ]
  },
  {
   "cell_type": "code",
   "execution_count": 16,
   "metadata": {},
   "outputs": [
    {
     "data": {
      "text/html": [
       "<span class=\"tex2jax_ignore\"><div class=\"entities\" style=\"line-height: 2.5; direction: ltr\"><br>Morgan Stanley Advantage Services Pvt. Ltd<br>. Athena Bldg No.5, Sector 30 Mindspace, Goregaon (W) Mumbai PAYSLIP FOR THE MONTH OF NOVEMBER 2020 \n",
       "<mark class=\"entity\" style=\"background: #ddd; padding: 0.45em 0.6em; margin: 0 0.25em; line-height: 1; border-radius: 0.35em;\">\n",
       "    Emp Code 95RWK\n",
       "    <span style=\"font-size: 0.8em; font-weight: bold; line-height: 1; border-radius: 0.35em; vertical-align: middle; margin-left: 0.5rem\">EMP CODE</span>\n",
       "</mark>\n",
       " Emp Name Monsoor Choudhury Department TAX BLR Cost Center 4P07 \n",
       "<mark class=\"entity\" style=\"background: #ddd; padding: 0.45em 0.6em; margin: 0 0.25em; line-height: 1; border-radius: 0.35em;\">\n",
       "    PF No. MHBAN0046775000101 3953\n",
       "    <span style=\"font-size: 0.8em; font-weight: bold; line-height: 1; border-radius: 0.35em; vertical-align: middle; margin-left: 0.5rem\">PF NO</span>\n",
       "</mark>\n",
       " Location Bengaluru Designation \n",
       "<mark class=\"entity\" style=\"background: #ddd; padding: 0.45em 0.6em; margin: 0 0.25em; line-height: 1; border-radius: 0.35em;\">\n",
       "    Sr Associate ESI No.\n",
       "    <span style=\"font-size: 0.8em; font-weight: bold; line-height: 1; border-radius: 0.35em; vertical-align: middle; margin-left: 0.5rem\">BANK ACCOUNT</span>\n",
       "</mark>\n",
       " \n",
       "<mark class=\"entity\" style=\"background: #ddd; padding: 0.45em 0.6em; margin: 0 0.25em; line-height: 1; border-radius: 0.35em;\">\n",
       "    Date of Birth 11-09-1991\n",
       "    <span style=\"font-size: 0.8em; font-weight: bold; line-height: 1; border-radius: 0.35em; vertical-align: middle; margin-left: 0.5rem\">DOB</span>\n",
       "</mark>\n",
       " \n",
       "<mark class=\"entity\" style=\"background: #ddd; padding: 0.45em 0.6em; margin: 0 0.25em; line-height: 1; border-radius: 0.35em;\">\n",
       "    Bank A/c No 50100300732580\n",
       "    <span style=\"font-size: 0.8em; font-weight: bold; line-height: 1; border-radius: 0.35em; vertical-align: middle; margin-left: 0.5rem\">BANK ACCOUNT</span>\n",
       "</mark>\n",
       " Pan No. AQFPC0159B \n",
       "<mark class=\"entity\" style=\"background: #ddd; padding: 0.45em 0.6em; margin: 0 0.25em; line-height: 1; border-radius: 0.35em;\">\n",
       "    Date of Joining 22-07-2019\n",
       "    <span style=\"font-size: 0.8em; font-weight: bold; line-height: 1; border-radius: 0.35em; vertical-align: middle; margin-left: 0.5rem\">DOJ</span>\n",
       "</mark>\n",
       " \n",
       "<mark class=\"entity\" style=\"background: #ddd; padding: 0.45em 0.6em; margin: 0 0.25em; line-height: 1; border-radius: 0.35em;\">\n",
       "    Gender M\n",
       "    <span style=\"font-size: 0.8em; font-weight: bold; line-height: 1; border-radius: 0.35em; vertical-align: middle; margin-left: 0.5rem\">GENDER</span>\n",
       "</mark>\n",
       " EPS No. UAN 100717017168 Regime Type Old Regime Earnings Amount YTD Deductions Amount YTD Basic 37,542.00 300,336.00 Provident Fund 4,505.00 33,787.00 Conveyance Allowance 1,600.00 12,800.00 Profession Tax 200.00 1,600.00 Other Earnings 2,000.00 12,000.00 Medical Insurance 1,399.00 11,192.00 House Rent Allowance 35,942.00 287,536.00 Income Tax 3,141.00 34,273.00 Total Earnings 77,084.00 612,672.00 Total Deductions 9,245.00 80,852.00 \n",
       "<mark class=\"entity\" style=\"background: #ddd; padding: 0.45em 0.6em; margin: 0 0.25em; line-height: 1; border-radius: 0.35em;\">\n",
       "    Net Pay : Rs. 67,839.00\n",
       "    <span style=\"font-size: 0.8em; font-weight: bold; line-height: 1; border-radius: 0.35em; vertical-align: middle; margin-left: 0.5rem\">NET SALARY</span>\n",
       "</mark>\n",
       " In Words Rupees Sixty Seven Thousand Eight Hundred and Thirty Nine Only. Private and Confidential.This is a system-generated document and signature is not required'<br></div></span>"
      ],
      "text/plain": [
       "<IPython.core.display.HTML object>"
      ]
     },
     "metadata": {},
     "output_type": "display_data"
    }
   ],
   "source": [
    "spacy.displacy.render(doc, style=\"ent\", jupyter=True) # display in Jupyter"
   ]
  },
  {
   "cell_type": "code",
   "execution_count": null,
   "metadata": {},
   "outputs": [],
   "source": []
  }
 ],
 "metadata": {
  "kernelspec": {
   "display_name": "Python 3",
   "language": "python",
   "name": "python3"
  },
  "language_info": {
   "codemirror_mode": {
    "name": "ipython",
    "version": 3
   },
   "file_extension": ".py",
   "mimetype": "text/x-python",
   "name": "python",
   "nbconvert_exporter": "python",
   "pygments_lexer": "ipython3",
   "version": "3.10.11"
  },
  "orig_nbformat": 4
 },
 "nbformat": 4,
 "nbformat_minor": 2
}

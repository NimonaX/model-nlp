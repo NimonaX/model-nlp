{
  "cells": [
    {
      "cell_type": "code",
      "execution_count": 1,
      "metadata": {
        "colab": {
          "base_uri": "https://localhost:8080/"
        },
        "id": "xbqXeONNUsAQ",
        "outputId": "387df46a-01aa-4b9c-d749-08280678ffd0"
      },
      "outputs": [
        {
          "name": "stdout",
          "output_type": "stream",
          "text": [
            "\u001b[K     |████████████████████████████████| 6.0 MB 5.5 MB/s \n",
            "\u001b[K     |████████████████████████████████| 451 kB 70.7 MB/s \n",
            "\u001b[K     |████████████████████████████████| 10.1 MB 49.4 MB/s \n",
            "\u001b[K     |████████████████████████████████| 42 kB 1.3 MB/s \n",
            "\u001b[K     |████████████████████████████████| 181 kB 57.0 MB/s \n",
            "\u001b[K     |████████████████████████████████| 628 kB 60.3 MB/s \n",
            "\u001b[?25h"
          ]
        }
      ],
      "source": [
        "! pip install -U spacy -q "
      ]
    },
    {
      "cell_type": "code",
      "execution_count": 4,
      "metadata": {
        "colab": {
          "base_uri": "https://localhost:8080/"
        },
        "id": "B8hvZt0qUvfA",
        "outputId": "dfb808c0-d52a-4f7b-8bf9-287ea2a383d2"
      },
      "outputs": [
        {
          "name": "stdout",
          "output_type": "stream",
          "text": [
            "\u001b[1m\n",
            "============================== Info about spaCy ==============================\u001b[0m\n",
            "\n",
            "spaCy version    3.6.1                         \n",
            "Location         c:\\Users\\VishalMSingh\\AppData\\Local\\Programs\\Python\\Python310\\lib\\site-packages\\spacy\n",
            "Platform         Windows-10-10.0.19045-SP0     \n",
            "Python version   3.10.11                       \n",
            "Pipelines        en_core_web_sm (3.6.0)        \n",
            "\n"
          ]
        }
      ],
      "source": [
        "!python -m spacy info"
      ]
    },
    {
      "cell_type": "code",
      "execution_count": 5,
      "metadata": {
        "colab": {
          "base_uri": "https://localhost:8080/"
        },
        "id": "OpnjAZIDU5qJ",
        "outputId": "0aebb9d9-805b-48e8-98bb-9eb9068d7bc3"
      },
      "outputs": [
        {
          "name": "stdout",
          "output_type": "stream",
          "text": [
            "--2021-12-30 17:13:03--  https://raw.githubusercontent.com/amrrs/custom-ner-with-spacy/main/pvr_training_data.json\n",
            "Resolving raw.githubusercontent.com (raw.githubusercontent.com)... 185.199.108.133, 185.199.109.133, 185.199.110.133, ...\n",
            "Connecting to raw.githubusercontent.com (raw.githubusercontent.com)|185.199.108.133|:443... connected.\n",
            "HTTP request sent, awaiting response... 200 OK\n",
            "Length: 2829 (2.8K) [text/plain]\n",
            "Saving to: ‘pvr_training_data.json’\n",
            "\n",
            "pvr_training_data.j 100%[===================>]   2.76K  --.-KB/s    in 0s      \n",
            "\n",
            "2021-12-30 17:13:03 (58.1 MB/s) - ‘pvr_training_data.json’ saved [2829/2829]\n",
            "\n"
          ]
        }
      ],
      "source": [
        "# !wget https://raw.githubusercontent.com/amrrs/custom-ner-with-spacy/main/pvr_training_data.json"
      ]
    },
    {
      "cell_type": "code",
      "execution_count": 5,
      "metadata": {
        "id": "CYc4PoUJZgVI"
      },
      "outputs": [],
      "source": [
        "import spacy\n",
        "from spacy.tokens import DocBin\n",
        "from tqdm import tqdm\n",
        "\n",
        "nlp = spacy.blank(\"en\") # load a new spacy model\n",
        "db = DocBin() # create a DocBin object"
      ]
    },
    {
      "cell_type": "code",
      "execution_count": 6,
      "metadata": {
        "id": "ypmHuPYBZ7C0"
      },
      "outputs": [],
      "source": [
        "import json\n",
        "f = open('train21.json')\n",
        "TRAIN_DATA = json.load(f)"
      ]
    },
    {
      "cell_type": "code",
      "execution_count": 7,
      "metadata": {
        "colab": {
          "base_uri": "https://localhost:8080/"
        },
        "id": "VRGQF9p2VKss",
        "outputId": "205de197-2cd9-4255-ee1f-dde5dc86ebb8"
      },
      "outputs": [
        {
          "name": "stderr",
          "output_type": "stream",
          "text": [
            "100%|██████████| 34/34 [00:00<00:00, 2615.62it/s]"
          ]
        },
        {
          "name": "stdout",
          "output_type": "stream",
          "text": [
            "Skipping entity\n",
            "Skipping entity\n",
            "Skipping entity\n",
            "Skipping entity\n"
          ]
        },
        {
          "name": "stderr",
          "output_type": "stream",
          "text": [
            "\n"
          ]
        }
      ],
      "source": [
        "for text, annot in tqdm(TRAIN_DATA['annotations']): \n",
        "    doc = nlp.make_doc(text) \n",
        "    ents = []\n",
        "    for start, end, label in annot[\"entities\"]:\n",
        "        span = doc.char_span(start, end, label=label, alignment_mode=\"contract\")\n",
        "        if span is None:\n",
        "            print(\"Skipping entity\")\n",
        "        else:\n",
        "            ents.append(span)\n",
        "    doc.ents = ents \n",
        "    db.add(doc)\n",
        "\n",
        "db.to_disk(\"./train21.spacy\") # save the docbin object"
      ]
    },
    {
      "cell_type": "code",
      "execution_count": 8,
      "metadata": {
        "colab": {
          "base_uri": "https://localhost:8080/"
        },
        "id": "SECGYS_KVUHF",
        "outputId": "52cec175-2d54-406d-cd06-a12d659009a7"
      },
      "outputs": [
        {
          "name": "stdout",
          "output_type": "stream",
          "text": [
            "\n",
            "\u001b[38;5;1m✘ The provided output file already exists. To force overwriting the\n",
            "config file, set the --force or -F flag.\u001b[0m\n",
            "\n"
          ]
        }
      ],
      "source": [
        "! python -m spacy init config config.cfg --lang en --pipeline ner --optimize efficiency"
      ]
    },
    {
      "cell_type": "code",
      "execution_count": 9,
      "metadata": {
        "colab": {
          "base_uri": "https://localhost:8080/"
        },
        "id": "sT82H_hqWaGP",
        "outputId": "116c82f1-1c8d-469c-bfa1-a816fa7cb896"
      },
      "outputs": [
        {
          "name": "stdout",
          "output_type": "stream",
          "text": [
            "\u001b[38;5;4mℹ Saving to output directory: .\u001b[0m\n",
            "\u001b[38;5;4mℹ Using CPU\u001b[0m\n",
            "\u001b[1m\n",
            "=========================== Initializing pipeline ===========================\u001b[0m\n",
            "\u001b[38;5;2m✔ Initialized pipeline\u001b[0m\n",
            "\u001b[1m\n",
            "============================= Training pipeline =============================\u001b[0m\n",
            "\u001b[38;5;4mℹ Pipeline: ['tok2vec', 'ner']\u001b[0m\n",
            "\u001b[38;5;4mℹ Initial learn rate: 0.001\u001b[0m\n",
            "E    #       LOSS TOK2VEC  LOSS NER  ENTS_F  ENTS_P  ENTS_R  SCORE \n",
            "---  ------  ------------  --------  ------  ------  ------  ------\n",
            "  0       0          0.00     63.97    0.00    0.00    0.00    0.00\n",
            " 67     200        294.29   2879.15   27.03   20.00   41.67    0.27\n",
            "164     400        118.68     60.00   36.36   28.57   50.00    0.36\n",
            "264     600          0.00      0.00   36.36   28.57   50.00    0.36\n",
            "364     800          0.00      0.00   37.50   30.00   50.00    0.37\n",
            "563    1000          0.00      0.00   37.50   30.00   50.00    0.37\n",
            "763    1200          0.00      0.00   37.50   30.00   50.00    0.37\n",
            "963    1400          0.00      0.00   37.50   30.00   50.00    0.37\n",
            "1163    1600          0.00      0.00   37.50   30.00   50.00    0.37\n",
            "1363    1800          0.00      0.00   37.50   30.00   50.00    0.37\n",
            "1563    2000          0.00      0.00   37.50   30.00   50.00    0.37\n",
            "1763    2200          0.00      0.00   37.50   30.00   50.00    0.37\n",
            "1963    2400          0.00      0.00   37.50   30.00   50.00    0.37\n",
            "\u001b[38;5;2m✔ Saved pipeline to output directory\u001b[0m\n",
            "model-last\n"
          ]
        }
      ],
      "source": [
        "! python -m spacy train config.cfg --output ./ --paths.train ./train21.spacy --paths.dev ./training_data.spacy"
      ]
    },
    {
      "cell_type": "code",
      "execution_count": 3,
      "metadata": {
        "id": "8zljPkppcy_w"
      },
      "outputs": [
        {
          "ename": "NameError",
          "evalue": "name 'spacy' is not defined",
          "output_type": "error",
          "traceback": [
            "\u001b[1;31m---------------------------------------------------------------------------\u001b[0m",
            "\u001b[1;31mNameError\u001b[0m                                 Traceback (most recent call last)",
            "Cell \u001b[1;32mIn[3], line 1\u001b[0m\n\u001b[1;32m----> 1\u001b[0m nlp_ner \u001b[39m=\u001b[39m spacy\u001b[39m.\u001b[39mload(\u001b[39m\"\u001b[39m\u001b[39mmodel-best\u001b[39m\u001b[39m\"\u001b[39m) \n",
            "\u001b[1;31mNameError\u001b[0m: name 'spacy' is not defined"
          ]
        }
      ],
      "source": [
        "nlp_ner = spacy.load(\"model-best\") "
      ]
    },
    {
      "cell_type": "code",
      "execution_count": null,
      "metadata": {},
      "outputs": [],
      "source": []
    },
    {
      "cell_type": "code",
      "execution_count": 2,
      "metadata": {
        "id": "GTbWEZ9Cc9b4"
      },
      "outputs": [
        {
          "ename": "NameError",
          "evalue": "name 'nlp_ner' is not defined",
          "output_type": "error",
          "traceback": [
            "\u001b[1;31m---------------------------------------------------------------------------\u001b[0m",
            "\u001b[1;31mNameError\u001b[0m                                 Traceback (most recent call last)",
            "Cell \u001b[1;32mIn[2], line 1\u001b[0m\n\u001b[1;32m----> 1\u001b[0m doc \u001b[39m=\u001b[39m nlp_ner(\u001b[39m'''\u001b[39m\n\u001b[0;32m      2\u001b[0m \u001b[39mMorgan Stanley Advantage Services Pvt. Ltd\u001b[39m\n\u001b[0;32m      3\u001b[0m \u001b[39m. Athena Bldg No.5, Sector 30 Mindspace, \u001b[39m\n\u001b[0;32m      4\u001b[0m \u001b[39m              Goregaon (W) Mumbai PAYSLIP FOR THE MONTH OF NOVEMBER 2020 Emp Code 95RWK Emp Name Monsoor Choudhury Department TAX BLR Cost Center 4P07 PF No. MHBAN0046775000101 3953 Location Bengaluru Designation Sr Associate ESI No. Date of Birth 11-09-1991 Bank A/c No 50100300732580 Pan No. AQFPC0159B Date of Joining 22-07-2019 Gender M EPS No. UAN 100717017168 Regime Type Old Regime Earnings Amount YTD Deductions Amount YTD Basic 37,542.00 300,336.00 Provident Fund 4,505.00 33,787.00 Conveyance Allowance 1,600.00 12,800.00 Profession Tax 200.00 1,600.00 Other Earnings 2,000.00 12,000.00 Medical Insurance 1,399.00 11,192.00 House Rent Allowance 35,942.00 287,536.00 Income Tax 3,141.00 34,273.00 Total Earnings 77,084.00 612,672.00 Total Deductions 9,245.00 80,852.00 Net Pay : Rs. 67,839.00 In Words Rupees Sixty Seven Thousand Eight Hundred and Thirty Nine Only. Private and Confidential.This is a system-generated document and signature is not required\u001b[39m\u001b[39m'\u001b[39m\n\u001b[0;32m      5\u001b[0m \u001b[39m'''\u001b[39m) \u001b[39m# input sample text\u001b[39;00m\n",
            "\u001b[1;31mNameError\u001b[0m: name 'nlp_ner' is not defined"
          ]
        }
      ],
      "source": [
        "doc = nlp_ner('''\n",
        "Morgan Stanley Advantage Services Pvt. Ltd\n",
        ". Athena Bldg No.5, Sector 30 Mindspace, \n",
        "              Goregaon (W) Mumbai PAYSLIP FOR THE MONTH OF NOVEMBER 2020 Emp Code 95RWK Emp Name Monsoor Choudhury Department TAX BLR Cost Center 4P07 PF No. MHBAN0046775000101 3953 Location Bengaluru Designation Sr Associate ESI No. Date of Birth 11-09-1991 Bank A/c No 50100300732580 Pan No. AQFPC0159B Date of Joining 22-07-2019 Gender M EPS No. UAN 100717017168 Regime Type Old Regime Earnings Amount YTD Deductions Amount YTD Basic 37,542.00 300,336.00 Provident Fund 4,505.00 33,787.00 Conveyance Allowance 1,600.00 12,800.00 Profession Tax 200.00 1,600.00 Other Earnings 2,000.00 12,000.00 Medical Insurance 1,399.00 11,192.00 House Rent Allowance 35,942.00 287,536.00 Income Tax 3,141.00 34,273.00 Total Earnings 77,084.00 612,672.00 Total Deductions 9,245.00 80,852.00 Net Pay : Rs. 67,839.00 In Words Rupees Sixty Seven Thousand Eight Hundred and Thirty Nine Only. Private and Confidential.This is a system-generated document and signature is not required'\n",
        "''') # input sample text"
      ]
    },
    {
      "cell_type": "code",
      "execution_count": null,
      "metadata": {
        "colab": {
          "base_uri": "https://localhost:8080/",
          "height": 1000
        },
        "id": "oBNf3_JGWzB9",
        "outputId": "800fb73d-817b-42af-dc2a-5726df1cef48"
      },
      "outputs": [
        {
          "data": {
            "text/html": [
              "<span class=\"tex2jax_ignore\"><div class=\"entities\" style=\"line-height: 2.5; direction: ltr\"><br>Morgan Stanley \n",
              "<mark class=\"entity\" style=\"background: #aa9cfc; padding: 0.45em 0.6em; margin: 0 0.25em; line-height: 1; border-radius: 0.35em;\">\n",
              "    Advantage Services Pvt. Ltd\n",
              "    <span style=\"font-size: 0.8em; font-weight: bold; line-height: 1; border-radius: 0.35em; vertical-align: middle; margin-left: 0.5rem\">PERSON</span>\n",
              "</mark>\n",
              "<br>. Athena \n",
              "<mark class=\"entity\" style=\"background: #ddd; padding: 0.45em 0.6em; margin: 0 0.25em; line-height: 1; border-radius: 0.35em;\">\n",
              "    Bldg No.5,\n",
              "    <span style=\"font-size: 0.8em; font-weight: bold; line-height: 1; border-radius: 0.35em; vertical-align: middle; margin-left: 0.5rem\">BANK ACCOUNT</span>\n",
              "</mark>\n",
              " Sector 30 Mindspace, Goregaon (W\n",
              "<mark class=\"entity\" style=\"background: #ddd; padding: 0.45em 0.6em; margin: 0 0.25em; line-height: 1; border-radius: 0.35em;\">\n",
              "    ) Mumbai PAYSLIP FOR\n",
              "    <span style=\"font-size: 0.8em; font-weight: bold; line-height: 1; border-radius: 0.35em; vertical-align: middle; margin-left: 0.5rem\">BANK ACCOUNT</span>\n",
              "</mark>\n",
              " THE MONTH OF NOVEMBER 2020 \n",
              "<mark class=\"entity\" style=\"background: #ddd; padding: 0.45em 0.6em; margin: 0 0.25em; line-height: 1; border-radius: 0.35em;\">\n",
              "    Emp Code 95RWK\n",
              "    <span style=\"font-size: 0.8em; font-weight: bold; line-height: 1; border-radius: 0.35em; vertical-align: middle; margin-left: 0.5rem\">EMP CODE</span>\n",
              "</mark>\n",
              " Emp Name Monsoor Choudhury Department TAX BLR \n",
              "<mark class=\"entity\" style=\"background: #aa9cfc; padding: 0.45em 0.6em; margin: 0 0.25em; line-height: 1; border-radius: 0.35em;\">\n",
              "    Cost Center 4P07\n",
              "    <span style=\"font-size: 0.8em; font-weight: bold; line-height: 1; border-radius: 0.35em; vertical-align: middle; margin-left: 0.5rem\">PERSON</span>\n",
              "</mark>\n",
              " \n",
              "<mark class=\"entity\" style=\"background: #ddd; padding: 0.45em 0.6em; margin: 0 0.25em; line-height: 1; border-radius: 0.35em;\">\n",
              "    PF No. MHBAN0046775000101 3953\n",
              "    <span style=\"font-size: 0.8em; font-weight: bold; line-height: 1; border-radius: 0.35em; vertical-align: middle; margin-left: 0.5rem\">PF NO</span>\n",
              "</mark>\n",
              " Location Bengaluru Designation Sr Associate ESI No. \n",
              "<mark class=\"entity\" style=\"background: #ddd; padding: 0.45em 0.6em; margin: 0 0.25em; line-height: 1; border-radius: 0.35em;\">\n",
              "    Date of Birth 11-09-1991\n",
              "    <span style=\"font-size: 0.8em; font-weight: bold; line-height: 1; border-radius: 0.35em; vertical-align: middle; margin-left: 0.5rem\">DOB</span>\n",
              "</mark>\n",
              " \n",
              "<mark class=\"entity\" style=\"background: #ddd; padding: 0.45em 0.6em; margin: 0 0.25em; line-height: 1; border-radius: 0.35em;\">\n",
              "    Bank A/c No 50100300732580\n",
              "    <span style=\"font-size: 0.8em; font-weight: bold; line-height: 1; border-radius: 0.35em; vertical-align: middle; margin-left: 0.5rem\">BANK ACCOUNT</span>\n",
              "</mark>\n",
              " Pan No. AQFPC0159B \n",
              "<mark class=\"entity\" style=\"background: #ddd; padding: 0.45em 0.6em; margin: 0 0.25em; line-height: 1; border-radius: 0.35em;\">\n",
              "    Date of Joining 22-07-2019\n",
              "    <span style=\"font-size: 0.8em; font-weight: bold; line-height: 1; border-radius: 0.35em; vertical-align: middle; margin-left: 0.5rem\">DOJ</span>\n",
              "</mark>\n",
              " Gender M EPS No. UAN 100717017168 Regime Type Old Regime Earnings Amount YTD Deductions Amount YTD Basic \n",
              "<mark class=\"entity\" style=\"background: #ddd; padding: 0.45em 0.6em; margin: 0 0.25em; line-height: 1; border-radius: 0.35em;\">\n",
              "    37,542.00\n",
              "    <span style=\"font-size: 0.8em; font-weight: bold; line-height: 1; border-radius: 0.35em; vertical-align: middle; margin-left: 0.5rem\">NET SALARY</span>\n",
              "</mark>\n",
              " 300,336.00 Provident Fund 4,505.00 33,787.00 Conveyance Allowance 1,600.00 12,800.00 Profession Tax 200.00 1,600.00 Other Earnings 2,000.00 12,000.00 Medical Insurance 1,399.00 11,192.00 House Rent Allowance 35,942.00 287,536.00 Income Tax 3,141.00 34,273.00 Total Earnings 77,084.00 612,672.00 Total Deductions 9,245.00 80,852.00 \n",
              "<mark class=\"entity\" style=\"background: #ddd; padding: 0.45em 0.6em; margin: 0 0.25em; line-height: 1; border-radius: 0.35em;\">\n",
              "    Net Pay : Rs. 67,839.00\n",
              "    <span style=\"font-size: 0.8em; font-weight: bold; line-height: 1; border-radius: 0.35em; vertical-align: middle; margin-left: 0.5rem\">NET SALARY</span>\n",
              "</mark>\n",
              " In Words Rupees Sixty Seven Thousand Eight Hundred and Thirty Nine Only. Private and Confidential.\n",
              "<mark class=\"entity\" style=\"background: #aa9cfc; padding: 0.45em 0.6em; margin: 0 0.25em; line-height: 1; border-radius: 0.35em;\">\n",
              "    This is a\n",
              "    <span style=\"font-size: 0.8em; font-weight: bold; line-height: 1; border-radius: 0.35em; vertical-align: middle; margin-left: 0.5rem\">PERSON</span>\n",
              "</mark>\n",
              " system-generated document and \n",
              "<mark class=\"entity\" style=\"background: #ddd; padding: 0.45em 0.6em; margin: 0 0.25em; line-height: 1; border-radius: 0.35em;\">\n",
              "    signature is not required\n",
              "    <span style=\"font-size: 0.8em; font-weight: bold; line-height: 1; border-radius: 0.35em; vertical-align: middle; margin-left: 0.5rem\">PF NO</span>\n",
              "</mark>\n",
              "\n",
              "<mark class=\"entity\" style=\"background: #ddd; padding: 0.45em 0.6em; margin: 0 0.25em; line-height: 1; border-radius: 0.35em;\">\n",
              "    '\n",
              "    <span style=\"font-size: 0.8em; font-weight: bold; line-height: 1; border-radius: 0.35em; vertical-align: middle; margin-left: 0.5rem\">NET SALARY</span>\n",
              "</mark>\n",
              "<br></div></span>"
            ],
            "text/plain": [
              "<IPython.core.display.HTML object>"
            ]
          },
          "metadata": {},
          "output_type": "display_data"
        }
      ],
      "source": [
        "spacy.displacy.render(doc, style=\"ent\", jupyter=True) # display in Jupyter"
      ]
    },
    {
      "cell_type": "code",
      "execution_count": null,
      "metadata": {
        "id": "Ovs0RAREdM9y"
      },
      "outputs": [],
      "source": []
    }
  ],
  "metadata": {
    "colab": {
      "name": "Custom NER with Spacy3",
      "provenance": []
    },
    "kernelspec": {
      "display_name": "Python 3",
      "name": "python3"
    },
    "language_info": {
      "codemirror_mode": {
        "name": "ipython",
        "version": 3
      },
      "file_extension": ".py",
      "mimetype": "text/x-python",
      "name": "python",
      "nbconvert_exporter": "python",
      "pygments_lexer": "ipython3",
      "version": "3.10.11"
    }
  },
  "nbformat": 4,
  "nbformat_minor": 0
}

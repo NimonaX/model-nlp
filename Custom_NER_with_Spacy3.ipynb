{
  "cells": [
    {
      "cell_type": "code",
      "execution_count": 1,
      "metadata": {
        "colab": {
          "base_uri": "https://localhost:8080/"
        },
        "id": "xbqXeONNUsAQ",
        "outputId": "387df46a-01aa-4b9c-d749-08280678ffd0"
      },
      "outputs": [
        {
          "name": "stdout",
          "output_type": "stream",
          "text": [
            "\u001b[K     |████████████████████████████████| 6.0 MB 5.5 MB/s \n",
            "\u001b[K     |████████████████████████████████| 451 kB 70.7 MB/s \n",
            "\u001b[K     |████████████████████████████████| 10.1 MB 49.4 MB/s \n",
            "\u001b[K     |████████████████████████████████| 42 kB 1.3 MB/s \n",
            "\u001b[K     |████████████████████████████████| 181 kB 57.0 MB/s \n",
            "\u001b[K     |████████████████████████████████| 628 kB 60.3 MB/s \n",
            "\u001b[?25h"
          ]
        }
      ],
      "source": [
        "! pip install -U spacy -q "
      ]
    },
    {
      "cell_type": "code",
      "execution_count": 2,
      "metadata": {
        "colab": {
          "base_uri": "https://localhost:8080/"
        },
        "id": "B8hvZt0qUvfA",
        "outputId": "dfb808c0-d52a-4f7b-8bf9-287ea2a383d2"
      },
      "outputs": [
        {
          "name": "stdout",
          "output_type": "stream",
          "text": [
            "\u001b[1m\n",
            "============================== Info about spaCy ==============================\u001b[0m\n",
            "\n",
            "spaCy version    3.2.1                         \n",
            "Location         /usr/local/lib/python3.7/dist-packages/spacy\n",
            "Platform         Linux-5.4.144+-x86_64-with-Ubuntu-18.04-bionic\n",
            "Python version   3.7.12                        \n",
            "Pipelines                                      \n",
            "\n"
          ]
        }
      ],
      "source": [
        "!python -m spacy info"
      ]
    },
    {
      "cell_type": "code",
      "execution_count": 5,
      "metadata": {
        "colab": {
          "base_uri": "https://localhost:8080/"
        },
        "id": "OpnjAZIDU5qJ",
        "outputId": "0aebb9d9-805b-48e8-98bb-9eb9068d7bc3"
      },
      "outputs": [
        {
          "name": "stdout",
          "output_type": "stream",
          "text": [
            "--2021-12-30 17:13:03--  https://raw.githubusercontent.com/amrrs/custom-ner-with-spacy/main/pvr_training_data.json\n",
            "Resolving raw.githubusercontent.com (raw.githubusercontent.com)... 185.199.108.133, 185.199.109.133, 185.199.110.133, ...\n",
            "Connecting to raw.githubusercontent.com (raw.githubusercontent.com)|185.199.108.133|:443... connected.\n",
            "HTTP request sent, awaiting response... 200 OK\n",
            "Length: 2829 (2.8K) [text/plain]\n",
            "Saving to: ‘pvr_training_data.json’\n",
            "\n",
            "pvr_training_data.j 100%[===================>]   2.76K  --.-KB/s    in 0s      \n",
            "\n",
            "2021-12-30 17:13:03 (58.1 MB/s) - ‘pvr_training_data.json’ saved [2829/2829]\n",
            "\n"
          ]
        }
      ],
      "source": [
        "# !wget https://raw.githubusercontent.com/amrrs/custom-ner-with-spacy/main/pvr_training_data.json"
      ]
    },
    {
      "cell_type": "code",
      "execution_count": 3,
      "metadata": {
        "id": "CYc4PoUJZgVI"
      },
      "outputs": [],
      "source": [
        "import spacy\n",
        "from spacy.tokens import DocBin\n",
        "from tqdm import tqdm\n",
        "\n",
        "nlp = spacy.blank(\"en\") # load a new spacy model\n",
        "db = DocBin() # create a DocBin object"
      ]
    },
    {
      "cell_type": "code",
      "execution_count": 7,
      "metadata": {
        "id": "ypmHuPYBZ7C0"
      },
      "outputs": [],
      "source": [
        "import json\n",
        "f = open('train.json')\n",
        "TRAIN_DATA = json.load(f)"
      ]
    },
    {
      "cell_type": "code",
      "execution_count": 8,
      "metadata": {
        "colab": {
          "base_uri": "https://localhost:8080/"
        },
        "id": "VRGQF9p2VKss",
        "outputId": "205de197-2cd9-4255-ee1f-dde5dc86ebb8"
      },
      "outputs": [
        {
          "name": "stderr",
          "output_type": "stream",
          "text": [
            "100%|██████████| 1/1 [00:00<00:00, 52.63it/s]\n"
          ]
        }
      ],
      "source": [
        "for text, annot in tqdm(TRAIN_DATA['annotations']): \n",
        "    doc = nlp.make_doc(text) \n",
        "    ents = []\n",
        "    for start, end, label in annot[\"entities\"]:\n",
        "        span = doc.char_span(start, end, label=label, alignment_mode=\"contract\")\n",
        "        if span is None:\n",
        "            print(\"Skipping entity\")\n",
        "        else:\n",
        "            ents.append(span)\n",
        "    doc.ents = ents \n",
        "    db.add(doc)\n",
        "\n",
        "db.to_disk(\"./train.spacy\") # save the docbin object"
      ]
    },
    {
      "cell_type": "code",
      "execution_count": 9,
      "metadata": {
        "colab": {
          "base_uri": "https://localhost:8080/"
        },
        "id": "SECGYS_KVUHF",
        "outputId": "52cec175-2d54-406d-cd06-a12d659009a7"
      },
      "outputs": [
        {
          "name": "stdout",
          "output_type": "stream",
          "text": [
            "\n",
            "\u001b[38;5;1m✘ The provided output file already exists. To force overwriting the\n",
            "config file, set the --force or -F flag.\u001b[0m\n",
            "\n"
          ]
        }
      ],
      "source": [
        "! python -m spacy init config config.cfg --lang en --pipeline ner --optimize efficiency"
      ]
    },
    {
      "cell_type": "code",
      "execution_count": 10,
      "metadata": {
        "colab": {
          "base_uri": "https://localhost:8080/"
        },
        "id": "sT82H_hqWaGP",
        "outputId": "116c82f1-1c8d-469c-bfa1-a816fa7cb896"
      },
      "outputs": [
        {
          "name": "stdout",
          "output_type": "stream",
          "text": [
            "\u001b[38;5;4mℹ Saving to output directory: .\u001b[0m\n",
            "\u001b[38;5;4mℹ Using CPU\u001b[0m\n",
            "\u001b[1m\n",
            "=========================== Initializing pipeline ===========================\u001b[0m\n",
            "\u001b[38;5;2m✔ Initialized pipeline\u001b[0m\n",
            "\u001b[1m\n",
            "============================= Training pipeline =============================\u001b[0m\n",
            "\u001b[38;5;4mℹ Pipeline: ['tok2vec', 'ner']\u001b[0m\n",
            "\u001b[38;5;4mℹ Initial learn rate: 0.001\u001b[0m\n",
            "E    #       LOSS TOK2VEC  LOSS NER  ENTS_F  ENTS_P  ENTS_R  SCORE \n",
            "---  ------  ------------  --------  ------  ------  ------  ------\n",
            "  0       0          0.00    136.60    0.00    0.00    0.00    0.00\n",
            "200     200       6744.75   7928.13  100.00  100.00  100.00    1.00\n",
            "400     400          0.00      0.00  100.00  100.00  100.00    1.00\n",
            "600     600          0.00      0.00  100.00  100.00  100.00    1.00\n",
            "800     800          0.00      0.00  100.00  100.00  100.00    1.00\n",
            "1000    1000          0.00      0.00  100.00  100.00  100.00    1.00\n",
            "1200    1200          0.00      0.00  100.00  100.00  100.00    1.00\n",
            "1400    1400          0.00      0.00  100.00  100.00  100.00    1.00\n",
            "1600    1600          0.00      0.00  100.00  100.00  100.00    1.00\n",
            "1800    1800          0.00      0.00  100.00  100.00  100.00    1.00\n",
            "\u001b[38;5;2m✔ Saved pipeline to output directory\u001b[0m\n",
            "model-last\n"
          ]
        }
      ],
      "source": [
        "! python -m spacy train config.cfg --output ./ --paths.train ./training_data.spacy --paths.dev ./training_data.spacy"
      ]
    },
    {
      "cell_type": "code",
      "execution_count": 11,
      "metadata": {
        "id": "8zljPkppcy_w"
      },
      "outputs": [],
      "source": [
        "nlp_ner = spacy.load(\"model-best\") "
      ]
    },
    {
      "cell_type": "code",
      "execution_count": null,
      "metadata": {},
      "outputs": [],
      "source": []
    },
    {
      "cell_type": "code",
      "execution_count": 16,
      "metadata": {
        "id": "GTbWEZ9Cc9b4"
      },
      "outputs": [],
      "source": [
        "doc = nlp_ner('''\n",
        "Applied Cloud Computing Pvt. Ltd.\n",
        "5, Anuroop CHS Samata Nagar, Pokhran Road 1 Thane Maharashtra 400606 India\n",
        "Payslip for the month of July 2023 Employee Net Pay\n",
        "₹9,825.00\n",
        "VISHAL SINGH,\n",
        "598\n",
        "Paid Days : 30 | LOP Days : 0\n",
        "Jr. Software Developer | Date of Joining: 13/02/2023\n",
        "Bank Account No : 148801506589\n",
        "EARNINGS AMOUNT YTD DEDUCTIONS AMOUNT YTD\n",
        "Basic ₹2,500.00 ₹9,756.00 Withheld Salary - ₹9,825.00\n",
        "House Rent Allowance ₹1,250.00 ₹4,877.00 Special Allowance\n",
        "₹9,825.00 ₹9,825.00\n",
        "Recovery\n",
        "Petrol Allowance ₹1,000.00 ₹3,902.00\n",
        "Professional Tax ₹175.00 ₹700.00\n",
        "Special Allowance ₹5,250.00 ₹20,486.00\n",
        "Hold Salary ₹9,825.00 ₹9,825.00\n",
        "Gross Earnings ₹19,825.00 Total Deductions ₹10,000.00\n",
        "Total Net Payable₹9,825.00(Indian Rupee Nine Thousand Eight Hundred Twenty-Five\n",
        "Only)\n",
        "**Total Net Payable = Gross Earnings - Total Deductions\n",
        "-- This is a system generated payslip, hence the signature is not required. --\n",
        "              Applied Cloud Computing Pvt. Ltd.\n",
        "5, Anuroop CHS Samata Nagar, Pokhran Road 1 Thane Maharashtra 400606 India\n",
        "Payslip for the month of July 2023 Employee Net Pay\n",
        "₹9,492.00\n",
        "ARVIND SHARMA,\n",
        "588\n",
        "Paid Days : 29 | LOP Days : 1\n",
        "Digitalization Intern | Date of Joining: 13/02/2023\n",
        "Bank Account No : 148801507264\n",
        "EARNINGS AMOUNT YTD DEDUCTIONS AMOUNT YTD\n",
        "Basic ₹2,417.00 ₹9,917.00 Professional Tax ₹175.00 ₹700.00\n",
        "House Rent Allowance ₹1,208.00 ₹4,958.00\n",
        "Petrol Allowance ₹967.00 ₹3,967.00\n",
        "Special Allowance ₹5,075.00 ₹20,825.00\n",
        "Gross Earnings ₹9,667.00 Total Deductions ₹175.00\n",
        "Total Net Payable₹9,492.00(Indian Rupee Nine Thousand Four Hundred Ninety-Two\n",
        "Only)\n",
        "**Total Net Payable = Gross Earnings - Total Deductions\n",
        "-- This is a system generated payslip, hence the signature is not required. --\n",
        "''') # input sample text"
      ]
    },
    {
      "cell_type": "code",
      "execution_count": 17,
      "metadata": {
        "colab": {
          "base_uri": "https://localhost:8080/",
          "height": 1000
        },
        "id": "oBNf3_JGWzB9",
        "outputId": "800fb73d-817b-42af-dc2a-5726df1cef48"
      },
      "outputs": [
        {
          "data": {
            "text/html": [
              "<span class=\"tex2jax_ignore\"><div class=\"entities\" style=\"line-height: 2.5; direction: ltr\"><br>Applied Cloud Computing Pvt. Ltd.<br>5, Anuroop CHS Samata Nagar, Pokhran Road 1 Thane Maharashtra 400606 India<br>Payslip for the month of July 2023 Employee \n",
              "<mark class=\"entity\" style=\"background: #ddd; padding: 0.45em 0.6em; margin: 0 0.25em; line-height: 1; border-radius: 0.35em;\">\n",
              "    Net Pay\n",
              "₹9,825.00\n",
              "    <span style=\"font-size: 0.8em; font-weight: bold; line-height: 1; border-radius: 0.35em; vertical-align: middle; margin-left: 0.5rem\">NET SALARY</span>\n",
              "</mark>\n",
              "<br>\n",
              "<mark class=\"entity\" style=\"background: #ddd; padding: 0.45em 0.6em; margin: 0 0.25em; line-height: 1; border-radius: 0.35em;\">\n",
              "    VISHAL SINGH,\n",
              "598\n",
              "    <span style=\"font-size: 0.8em; font-weight: bold; line-height: 1; border-radius: 0.35em; vertical-align: middle; margin-left: 0.5rem\">DESIGNATION</span>\n",
              "</mark>\n",
              "<br>Paid Days : 30 | LOP Days : 0<br>Jr. Software Developer | \n",
              "<mark class=\"entity\" style=\"background: #ddd; padding: 0.45em 0.6em; margin: 0 0.25em; line-height: 1; border-radius: 0.35em;\">\n",
              "    Date of Joining: 13/02/2023\n",
              "    <span style=\"font-size: 0.8em; font-weight: bold; line-height: 1; border-radius: 0.35em; vertical-align: middle; margin-left: 0.5rem\">DOJ</span>\n",
              "</mark>\n",
              "<br>\n",
              "<mark class=\"entity\" style=\"background: #ddd; padding: 0.45em 0.6em; margin: 0 0.25em; line-height: 1; border-radius: 0.35em;\">\n",
              "    Bank Account No : 148801506589\n",
              "    <span style=\"font-size: 0.8em; font-weight: bold; line-height: 1; border-radius: 0.35em; vertical-align: middle; margin-left: 0.5rem\">BANK ACCOUNT</span>\n",
              "</mark>\n",
              "<br>EARNINGS AMOUNT YTD \n",
              "<mark class=\"entity\" style=\"background: #ddd; padding: 0.45em 0.6em; margin: 0 0.25em; line-height: 1; border-radius: 0.35em;\">\n",
              "    DEDUCTIONS AMOUNT YTD\n",
              "\n",
              "    <span style=\"font-size: 0.8em; font-weight: bold; line-height: 1; border-radius: 0.35em; vertical-align: middle; margin-left: 0.5rem\">DESIGNATION</span>\n",
              "</mark>\n",
              "\n",
              "<mark class=\"entity\" style=\"background: #ddd; padding: 0.45em 0.6em; margin: 0 0.25em; line-height: 1; border-radius: 0.35em;\">\n",
              "    Basic ₹\n",
              "    <span style=\"font-size: 0.8em; font-weight: bold; line-height: 1; border-radius: 0.35em; vertical-align: middle; margin-left: 0.5rem\">BASIC SALARY</span>\n",
              "</mark>\n",
              "2,500.00 ₹9,756.00 Withheld Salary - ₹9,825.00<br>House Rent Allowance ₹1,250.00 ₹4,877.00 Special Allowance<br>₹9,825.00 ₹9,825.00<br>Recovery<br>Petrol Allowance ₹1,000.00 ₹3,902.00<br>Professional Tax ₹175.00 ₹700.00<br>Special Allowance ₹5,250.00 ₹20,486.00<br>Hold Salary ₹9,825.00 ₹9,825.00<br>Gross Earnings ₹19,825.00 Total Deductions ₹10,000.00<br>Total Net Payable₹9,825.00(Indian Rupee Nine Thousand Eight Hundred Twenty-Five<br>Only)<br>**Total Net Payable = Gross Earnings - Total Deductions<br>-- This is a system generated payslip, hence the signature is not required. --<br>              Applied Cloud Computing Pvt. Ltd.<br>5, Anuroop CHS Samata Nagar, Pokhran Road 1 Thane Maharashtra 400606 India<br>Payslip for the month of July 2023 Employee \n",
              "<mark class=\"entity\" style=\"background: #ddd; padding: 0.45em 0.6em; margin: 0 0.25em; line-height: 1; border-radius: 0.35em;\">\n",
              "    Net Pay\n",
              "₹9,492.00\n",
              "ARVIND SHARMA,\n",
              "588\n",
              "\n",
              "    <span style=\"font-size: 0.8em; font-weight: bold; line-height: 1; border-radius: 0.35em; vertical-align: middle; margin-left: 0.5rem\">NET SALARY</span>\n",
              "</mark>\n",
              "Paid Days : 29 | LOP Days : 1<br>Digitalization Intern | \n",
              "<mark class=\"entity\" style=\"background: #ddd; padding: 0.45em 0.6em; margin: 0 0.25em; line-height: 1; border-radius: 0.35em;\">\n",
              "    Date of Joining: 13/02/2023\n",
              "    <span style=\"font-size: 0.8em; font-weight: bold; line-height: 1; border-radius: 0.35em; vertical-align: middle; margin-left: 0.5rem\">DOJ</span>\n",
              "</mark>\n",
              "<br>\n",
              "<mark class=\"entity\" style=\"background: #ddd; padding: 0.45em 0.6em; margin: 0 0.25em; line-height: 1; border-radius: 0.35em;\">\n",
              "    Bank Account No : 148801507264\n",
              "    <span style=\"font-size: 0.8em; font-weight: bold; line-height: 1; border-radius: 0.35em; vertical-align: middle; margin-left: 0.5rem\">BANK ACCOUNT</span>\n",
              "</mark>\n",
              "<br>EARNINGS AMOUNT YTD \n",
              "<mark class=\"entity\" style=\"background: #ddd; padding: 0.45em 0.6em; margin: 0 0.25em; line-height: 1; border-radius: 0.35em;\">\n",
              "    DEDUCTIONS AMOUNT YTD\n",
              "\n",
              "    <span style=\"font-size: 0.8em; font-weight: bold; line-height: 1; border-radius: 0.35em; vertical-align: middle; margin-left: 0.5rem\">DESIGNATION</span>\n",
              "</mark>\n",
              "\n",
              "<mark class=\"entity\" style=\"background: #ddd; padding: 0.45em 0.6em; margin: 0 0.25em; line-height: 1; border-radius: 0.35em;\">\n",
              "    Basic ₹\n",
              "    <span style=\"font-size: 0.8em; font-weight: bold; line-height: 1; border-radius: 0.35em; vertical-align: middle; margin-left: 0.5rem\">BASIC SALARY</span>\n",
              "</mark>\n",
              "2,417.00 ₹9,917.00 Professional Tax ₹175.00 ₹700.00<br>House Rent Allowance ₹1,208.00 ₹4,958.00<br>Petrol Allowance ₹967.00 ₹3,967.00<br>Special Allowance ₹5,075.00 ₹20,825.00<br>Gross Earnings ₹9,667.00 Total Deductions ₹175.00<br>Total Net Payable₹9,492.00(Indian Rupee Nine Thousand Four Hundred Ninety-Two<br>Only)<br>**Total Net Payable = Gross Earnings - Total Deductions<br>-- This is a system generated payslip, hence the signature is not required. --<br></div></span>"
            ],
            "text/plain": [
              "<IPython.core.display.HTML object>"
            ]
          },
          "metadata": {},
          "output_type": "display_data"
        }
      ],
      "source": [
        "spacy.displacy.render(doc, style=\"ent\", jupyter=True) # display in Jupyter"
      ]
    },
    {
      "cell_type": "code",
      "execution_count": null,
      "metadata": {
        "id": "Ovs0RAREdM9y"
      },
      "outputs": [],
      "source": []
    }
  ],
  "metadata": {
    "colab": {
      "name": "Custom NER with Spacy3",
      "provenance": []
    },
    "kernelspec": {
      "display_name": "Python 3",
      "name": "python3"
    },
    "language_info": {
      "codemirror_mode": {
        "name": "ipython",
        "version": 3
      },
      "file_extension": ".py",
      "mimetype": "text/x-python",
      "name": "python",
      "nbconvert_exporter": "python",
      "pygments_lexer": "ipython3",
      "version": "3.10.11"
    }
  },
  "nbformat": 4,
  "nbformat_minor": 0
}
